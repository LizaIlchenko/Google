{
  "nbformat": 4,
  "nbformat_minor": 0,
  "metadata": {
    "colab": {
      "provenance": [],
      "authorship_tag": "ABX9TyPuZloemJ+2XN5w8OXjIYs5",
      "include_colab_link": true
    },
    "kernelspec": {
      "name": "python3",
      "display_name": "Python 3"
    },
    "language_info": {
      "name": "python"
    }
  },
  "cells": [
    {
      "cell_type": "markdown",
      "metadata": {
        "id": "view-in-github",
        "colab_type": "text"
      },
      "source": [
        "<a href=\"https://colab.research.google.com/github/LizaIlchenko/Google/blob/main/Untitled3.ipynb\" target=\"_parent\"><img src=\"https://colab.research.google.com/assets/colab-badge.svg\" alt=\"Open In Colab\"/></a>"
      ]
    },
    {
      "cell_type": "code",
      "execution_count": 7,
      "metadata": {
        "id": "34BzL-BdEx3U"
      },
      "outputs": [],
      "source": [
        "from tensorflow.keras.datasets import mnist #Библиотека с базой Mnist\n",
        "from tensorflow.keras.models import Sequential # Подлючаем класс создания модели Sequential\n",
        "from tensorflow.keras.layers import Dense # Подключаем класс Dense - полносвязный слой\n",
        "from tensorflow.keras.optimizers import Adam # Подключаем оптимизатор Adam\n",
        "from tensorflow.keras import utils #Утилиты для to_categorical\n",
        "from tensorflow.keras.preprocessing import image #Для отрисовки изображения\n",
        "import numpy as np # Подключаем библиотеку numpy\n",
        "import pylab # Модуль для построения графиков\n",
        "from mpl_toolkits.mplot3d import Axes3D # Модуль для трехмерной графики\n",
        "from google.colab import files #Для загрузки своей картинки\n",
        "import matplotlib.pyplot as plt #Отрисовка изображений\n",
        "from PIL import Image #Отрисовка изображений\n",
        "#Отрисовывать изображения в ноутбуке, а не в консоль или файл\n",
        "%matplotlib inline"
      ]
    },
    {
      "cell_type": "code",
      "source": [
        "model = Sequential()\n",
        "model.add(Dense(2, input_dim = 2, use_bias = False))\n",
        "model.add(Dense(1, use_bias = False))"
      ],
      "metadata": {
        "id": "vy6noDpzHmng"
      },
      "execution_count": 8,
      "outputs": []
    },
    {
      "cell_type": "code",
      "source": [
        "model.summary()"
      ],
      "metadata": {
        "colab": {
          "base_uri": "https://localhost:8080/"
        },
        "id": "xeWanveBK04f",
        "outputId": "a1c43881-67b2-40f4-d069-c78dcae499f3"
      },
      "execution_count": 9,
      "outputs": [
        {
          "output_type": "stream",
          "name": "stdout",
          "text": [
            "Model: \"sequential\"\n",
            "_________________________________________________________________\n",
            " Layer (type)                Output Shape              Param #   \n",
            "=================================================================\n",
            " dense (Dense)               (None, 2)                 4         \n",
            "                                                                 \n",
            " dense_1 (Dense)             (None, 1)                 2         \n",
            "                                                                 \n",
            "=================================================================\n",
            "Total params: 6\n",
            "Trainable params: 6\n",
            "Non-trainable params: 0\n",
            "_________________________________________________________________\n"
          ]
        }
      ]
    },
    {
      "cell_type": "code",
      "source": [
        "weights = model.get_weights()\n",
        "print(weights)"
      ],
      "metadata": {
        "colab": {
          "base_uri": "https://localhost:8080/"
        },
        "id": "bnRYHFedMXRQ",
        "outputId": "53cf7e1f-9f43-49d3-cce0-31c50cc4ec1e"
      },
      "execution_count": 10,
      "outputs": [
        {
          "output_type": "stream",
          "name": "stdout",
          "text": [
            "[array([[ 0.4883201 , -0.56178284],\n",
            "       [-0.84488046,  0.2232331 ]], dtype=float32), array([[ 0.81213915],\n",
            "       [-0.14437187]], dtype=float32)]\n"
          ]
        }
      ]
    },
    {
      "cell_type": "code",
      "source": [
        "w1 = 0.42\n",
        "w2 = 0.15\n",
        "w3 = -0.56\n",
        "w4 = 0.83\n",
        "w5 = 0.93\n",
        "w6 = 0.02\n",
        "new_weiht = [np.array ([[w1,w3], [w2,w4]]), np.array ([[w5], [w6]])]\n",
        "print(new_weiht)\n",
        "model.set_weights(new_weiht)"
      ],
      "metadata": {
        "colab": {
          "base_uri": "https://localhost:8080/"
        },
        "id": "LduqQ2CNM135",
        "outputId": "d8d6cdba-c85d-4b4b-c38f-ba2f6aa22b13"
      },
      "execution_count": 26,
      "outputs": [
        {
          "output_type": "stream",
          "name": "stdout",
          "text": [
            "[array([[ 0.42, -0.56],\n",
            "       [ 0.15,  0.83]]), array([[0.93],\n",
            "       [0.02]])]\n"
          ]
        }
      ]
    },
    {
      "cell_type": "code",
      "source": [
        "x1 = 7.2\n",
        "x2 = -5.6\n",
        "x_train = np.expand_dims(np.array([x1, x2]), 0)\n",
        "x_train.shape"
      ],
      "metadata": {
        "colab": {
          "base_uri": "https://localhost:8080/"
        },
        "id": "8yfhEWGZOHio",
        "outputId": "f8b72790-cdf4-46ef-9372-4fdf52d6b3ab"
      },
      "execution_count": 12,
      "outputs": [
        {
          "output_type": "execute_result",
          "data": {
            "text/plain": [
              "(1, 2)"
            ]
          },
          "metadata": {},
          "execution_count": 12
        }
      ]
    },
    {
      "cell_type": "code",
      "source": [
        "k = np.array([x1, x2])\n",
        "k.shape"
      ],
      "metadata": {
        "colab": {
          "base_uri": "https://localhost:8080/"
        },
        "id": "stCrO_DcPDNw",
        "outputId": "ec21104e-97da-4ae7-a50f-25d7de960ffd"
      },
      "execution_count": 13,
      "outputs": [
        {
          "output_type": "execute_result",
          "data": {
            "text/plain": [
              "(2,)"
            ]
          },
          "metadata": {},
          "execution_count": 13
        }
      ]
    },
    {
      "cell_type": "code",
      "source": [
        "print(x_train)\n",
        "print(k)"
      ],
      "metadata": {
        "colab": {
          "base_uri": "https://localhost:8080/"
        },
        "id": "LNXUnHwvPn7Q",
        "outputId": "1eb3bcdb-2475-41c3-8895-7f331561471a"
      },
      "execution_count": 14,
      "outputs": [
        {
          "output_type": "stream",
          "name": "stdout",
          "text": [
            "[[ 7.2 -5.6]]\n",
            "[ 7.2 -5.6]\n"
          ]
        }
      ]
    },
    {
      "cell_type": "code",
      "source": [
        "y_linear = model.predict(x_train)\n",
        "print(y_linear)"
      ],
      "metadata": {
        "colab": {
          "base_uri": "https://localhost:8080/"
        },
        "id": "m_tD4cwIPzUP",
        "outputId": "7cd09146-51b1-4699-df51-2533b6cb75fb"
      },
      "execution_count": 15,
      "outputs": [
        {
          "output_type": "stream",
          "name": "stdout",
          "text": [
            "1/1 [==============================] - 0s 149ms/step\n",
            "[[1.8575201]]\n"
          ]
        }
      ]
    },
    {
      "cell_type": "code",
      "source": [
        "model(x_train)"
      ],
      "metadata": {
        "colab": {
          "base_uri": "https://localhost:8080/"
        },
        "id": "4b2b8T1OQip3",
        "outputId": "51b3d9a8-b996-4973-c7fc-1c1f55498881"
      },
      "execution_count": 16,
      "outputs": [
        {
          "output_type": "execute_result",
          "data": {
            "text/plain": [
              "<tf.Tensor: shape=(1, 1), dtype=float32, numpy=array([[1.8575201]], dtype=float32)>"
            ]
          },
          "metadata": {},
          "execution_count": 16
        }
      ]
    },
    {
      "cell_type": "code",
      "source": [
        "N1 = x1 * w1 + x2 * w2\n",
        "N2 = x1 * w3 + x2 * w4\n",
        "print(N1)\n",
        "print(N2)"
      ],
      "metadata": {
        "colab": {
          "base_uri": "https://localhost:8080/"
        },
        "id": "sJHxYM_sQmqn",
        "outputId": "83b02f29-6b90-45d2-b67b-7db1eb339f43"
      },
      "execution_count": 17,
      "outputs": [
        {
          "output_type": "stream",
          "name": "stdout",
          "text": [
            "2.184\n",
            "-8.68\n"
          ]
        }
      ]
    },
    {
      "cell_type": "code",
      "source": [
        "Y_linear = N1 * w5 + N2 * w6\n",
        "print(Y_linear)"
      ],
      "metadata": {
        "colab": {
          "base_uri": "https://localhost:8080/"
        },
        "id": "RoxBcxfSQtmH",
        "outputId": "272fee65-3ce8-4c3c-d563-294783d612ac"
      },
      "execution_count": 18,
      "outputs": [
        {
          "output_type": "stream",
          "name": "stdout",
          "text": [
            "1.8575200000000005\n"
          ]
        }
      ]
    },
    {
      "cell_type": "code",
      "source": [
        "print('Значение предикта модели:', round(y_linear[0][0], 6))\n",
        "print('Значение посчитанное вручную:', round(Y_linear, 6))"
      ],
      "metadata": {
        "colab": {
          "base_uri": "https://localhost:8080/"
        },
        "id": "5Ej5AirIQzK_",
        "outputId": "35b5e45b-8181-4f24-a4b2-b3d3ebd8d923"
      },
      "execution_count": 19,
      "outputs": [
        {
          "output_type": "stream",
          "name": "stdout",
          "text": [
            "Значение предикта модели: 1.85752\n",
            "Значение посчитанное вручную: 1.85752\n"
          ]
        }
      ]
    },
    {
      "cell_type": "code",
      "source": [
        "def sigmoid(x):\n",
        "  return 1/(1+np.e ** (-x))"
      ],
      "metadata": {
        "id": "YqgiAoHRSO23"
      },
      "execution_count": 24,
      "outputs": []
    },
    {
      "cell_type": "code",
      "source": [
        "model_sigmoid = Sequential() # Создаем пустую модель нейронной сети\n",
        "model_sigmoid.add(Dense(2, input_dim = 2, activation='sigmoid', use_bias=False)) # Добавляем полносвязный слой с 2мя нейронами (указываем, что на вход принимаем вектор из двух элементов), функция активация - sigmoid,  и отключаем использование нейрона смещения\n",
        "model_sigmoid.add(Dense(1, activation='sigmoid', use_bias=False)) # Добавляем полносвязный слой с 1 нейроном (выходной слой нашей модели), здесь уже не требуется указывать размерность входных данных, функция активация - sigmoid, и также отключаем использование нейрона смещения\n",
        "model_sigmoid.summary() # Отобразим структуру созданной сети (должна совпадать с первой моделью)\n",
        "model_sigmoid.set_weights(new_weiht)"
      ],
      "metadata": {
        "colab": {
          "base_uri": "https://localhost:8080/"
        },
        "id": "AwR3QU5M-jyb",
        "outputId": "407031a6-eb84-483c-8ac8-e968d7dfcc73"
      },
      "execution_count": 30,
      "outputs": [
        {
          "output_type": "stream",
          "name": "stdout",
          "text": [
            "Model: \"sequential_8\"\n",
            "_________________________________________________________________\n",
            " Layer (type)                Output Shape              Param #   \n",
            "=================================================================\n",
            " dense_14 (Dense)            (None, 2)                 4         \n",
            "                                                                 \n",
            " dense_15 (Dense)            (None, 1)                 2         \n",
            "                                                                 \n",
            "=================================================================\n",
            "Total params: 6\n",
            "Trainable params: 6\n",
            "Non-trainable params: 0\n",
            "_________________________________________________________________\n"
          ]
        }
      ]
    },
    {
      "cell_type": "code",
      "source": [
        "y_sigmoid = model_sigmoid.predict(x_train)\n",
        "print(y_sigmoid)"
      ],
      "metadata": {
        "colab": {
          "base_uri": "https://localhost:8080/"
        },
        "id": "IWfgHRgs-vGz",
        "outputId": "5e560dc2-bd46-4762-9283-4bcdeba9d33e"
      },
      "execution_count": 32,
      "outputs": [
        {
          "output_type": "stream",
          "name": "stdout",
          "text": [
            "1/1 [==============================] - 0s 54ms/step\n",
            "[[0.69759905]]\n"
          ]
        }
      ]
    },
    {
      "cell_type": "code",
      "source": [
        "H1_sigmoid = sigmoid(x1 * w1 + x2 * w2)\n",
        "H2_sigmoid = sigmoid(x1 * w3 + x2 * w4)\n",
        "print(H1_sigmoid)\n",
        "print(H2_sigmoid)"
      ],
      "metadata": {
        "colab": {
          "base_uri": "https://localhost:8080/"
        },
        "id": "MkWAb8ccAV7k",
        "outputId": "217f5aac-fbbd-40a2-a99f-6715e0041a5d"
      },
      "execution_count": 33,
      "outputs": [
        {
          "output_type": "stream",
          "name": "stdout",
          "text": [
            "0.8988034760686675\n",
            "0.00016992218914157423\n"
          ]
        }
      ]
    },
    {
      "cell_type": "code",
      "source": [
        "Y_sigmoid = sigmoid(H1_sigmoid * w5 + H2_sigmoid * w6)\n",
        "print(Y_sigmoid)"
      ],
      "metadata": {
        "colab": {
          "base_uri": "https://localhost:8080/"
        },
        "id": "Tz3Yi8vMAgHD",
        "outputId": "be787c07-cb89-42e8-eb1c-ec5bf0fd6c4f"
      },
      "execution_count": 34,
      "outputs": [
        {
          "output_type": "stream",
          "name": "stdout",
          "text": [
            "0.6975990302210135\n"
          ]
        }
      ]
    },
    {
      "cell_type": "code",
      "source": [
        "print('Значение предикта модели:', round(y_sigmoid[0][0], 6))\n",
        "print('Значение посчитанное вручную:', round(Y_sigmoid, 6))"
      ],
      "metadata": {
        "colab": {
          "base_uri": "https://localhost:8080/"
        },
        "id": "2_mKgf_gAn87",
        "outputId": "149490ad-dd68-4243-e599-972b8b2c7a38"
      },
      "execution_count": 35,
      "outputs": [
        {
          "output_type": "stream",
          "name": "stdout",
          "text": [
            "Значение предикта модели: 0.697599\n",
            "Значение посчитанное вручную: 0.697599\n"
          ]
        }
      ]
    },
    {
      "cell_type": "code",
      "source": [],
      "metadata": {
        "id": "7ZVO6AMhA2Wk"
      },
      "execution_count": null,
      "outputs": []
    }
  ]
}